{
  "nbformat": 4,
  "nbformat_minor": 0,
  "metadata": {
    "colab": {
      "provenance": [],
      "authorship_tag": "ABX9TyM3vtPXfHnqBtp+MZ/XS0Xn",
      "include_colab_link": true
    },
    "kernelspec": {
      "name": "python3",
      "display_name": "Python 3"
    },
    "language_info": {
      "name": "python"
    }
  },
  "cells": [
    {
      "cell_type": "markdown",
      "metadata": {
        "id": "view-in-github",
        "colab_type": "text"
      },
      "source": [
        "<a href=\"https://colab.research.google.com/github/guialves04/python/blob/main/Explorando%20biblioteca%20OS.ipynb\" target=\"_parent\"><img src=\"https://colab.research.google.com/assets/colab-badge.svg\" alt=\"Open In Colab\"/></a>"
      ]
    },
    {
      "cell_type": "markdown",
      "source": [
        "# Biblioteca OS"
      ],
      "metadata": {
        "id": "dWnOEk4_eNdY"
      }
    },
    {
      "cell_type": "code",
      "execution_count": 1,
      "metadata": {
        "id": "APbSeCjkdXzy"
      },
      "outputs": [],
      "source": [
        "# importando a biblioteca\n",
        "import os"
      ]
    },
    {
      "cell_type": "code",
      "source": [
        "# verificar o diretório atual\n",
        "os.getcwd()"
      ],
      "metadata": {
        "colab": {
          "base_uri": "https://localhost:8080/",
          "height": 35
        },
        "id": "YiNP194xeSSh",
        "outputId": "119087b3-6cb9-4da1-d21b-bf6dc29b040e"
      },
      "execution_count": 2,
      "outputs": [
        {
          "output_type": "execute_result",
          "data": {
            "text/plain": [
              "'/content'"
            ],
            "application/vnd.google.colaboratory.intrinsic+json": {
              "type": "string"
            }
          },
          "metadata": {},
          "execution_count": 2
        }
      ]
    },
    {
      "cell_type": "code",
      "source": [
        "# mudando de diretório\n",
        "os.chdir('/content/sample_data')"
      ],
      "metadata": {
        "id": "FBuiuTNoeeQI"
      },
      "execution_count": 3,
      "outputs": []
    },
    {
      "cell_type": "code",
      "source": [
        "# teste do diretório\n",
        "os.getcwd()\n"
      ],
      "metadata": {
        "colab": {
          "base_uri": "https://localhost:8080/",
          "height": 35
        },
        "id": "ySVLy6S-fFYx",
        "outputId": "5517add7-11bb-4bc1-bd7d-6e0f29ee244e"
      },
      "execution_count": 4,
      "outputs": [
        {
          "output_type": "execute_result",
          "data": {
            "text/plain": [
              "'/content/sample_data'"
            ],
            "application/vnd.google.colaboratory.intrinsic+json": {
              "type": "string"
            }
          },
          "metadata": {},
          "execution_count": 4
        }
      ]
    },
    {
      "cell_type": "code",
      "source": [
        "# listar conteúdo do diretório atual\n",
        "os.listdir()"
      ],
      "metadata": {
        "colab": {
          "base_uri": "https://localhost:8080/"
        },
        "id": "b7EI24R8fK4I",
        "outputId": "a9a6f2e7-4154-468b-8fd5-0ff478d9f2c7"
      },
      "execution_count": 5,
      "outputs": [
        {
          "output_type": "execute_result",
          "data": {
            "text/plain": [
              "['README.md',\n",
              " 'anscombe.json',\n",
              " 'mnist_test.csv',\n",
              " 'california_housing_test.csv',\n",
              " 'california_housing_train.csv',\n",
              " 'mnist_train_small.csv']"
            ]
          },
          "metadata": {},
          "execution_count": 5
        }
      ]
    },
    {
      "cell_type": "code",
      "source": [
        "# listando arquivos na ordem, 0 = primeiro arquivo\n",
        "os.listdir()[0]"
      ],
      "metadata": {
        "colab": {
          "base_uri": "https://localhost:8080/",
          "height": 35
        },
        "id": "8q9kqVySfYq5",
        "outputId": "f7defa0f-208e-439d-b5bf-b927f3980fd2"
      },
      "execution_count": 7,
      "outputs": [
        {
          "output_type": "execute_result",
          "data": {
            "text/plain": [
              "'README.md'"
            ],
            "application/vnd.google.colaboratory.intrinsic+json": {
              "type": "string"
            }
          },
          "metadata": {},
          "execution_count": 7
        }
      ]
    },
    {
      "cell_type": "markdown",
      "source": [
        "# Manipulação de Arquivos"
      ],
      "metadata": {
        "id": "GPikOd_wgGWo"
      }
    },
    {
      "cell_type": "code",
      "source": [
        "# criando arquivo\n",
        "arquivo = 'arquivo.txt'\n",
        "\n",
        "# abrindo o arquivo no mode que permite escrita\n",
        "file = open(arquivo, 'w')\n",
        "file.write('Portfólio de Python')\n",
        "file.close()"
      ],
      "metadata": {
        "id": "PyZSQxBygJ4w"
      },
      "execution_count": 8,
      "outputs": []
    },
    {
      "cell_type": "code",
      "source": [
        "# conferindo a criação do arquivo\n",
        "os.listdir()"
      ],
      "metadata": {
        "colab": {
          "base_uri": "https://localhost:8080/"
        },
        "id": "NhvOVIi2gn_4",
        "outputId": "a2f9c7fd-c67c-465e-89a4-b9a31a865bd5"
      },
      "execution_count": 9,
      "outputs": [
        {
          "output_type": "execute_result",
          "data": {
            "text/plain": [
              "['README.md',\n",
              " 'anscombe.json',\n",
              " 'arquivo.txt',\n",
              " 'mnist_test.csv',\n",
              " 'california_housing_test.csv',\n",
              " 'california_housing_train.csv',\n",
              " 'mnist_train_small.csv']"
            ]
          },
          "metadata": {},
          "execution_count": 9
        }
      ]
    },
    {
      "cell_type": "code",
      "source": [
        "# abrindo o arquivo para leitura\n",
        "file = open(arquivo, 'r')\n",
        "\n",
        "# lendo o arquivo\n",
        "text = file.read()\n",
        "print(text)\n",
        "\n",
        "# fechar o arquivo\n",
        "file.close()"
      ],
      "metadata": {
        "colab": {
          "base_uri": "https://localhost:8080/"
        },
        "id": "8zGjeyp2graA",
        "outputId": "a0d2e86a-542c-47f7-fb14-7a3471228ffe"
      },
      "execution_count": 11,
      "outputs": [
        {
          "output_type": "stream",
          "name": "stdout",
          "text": [
            "Portfólio de Python\n"
          ]
        }
      ]
    },
    {
      "cell_type": "code",
      "source": [
        "# criando e escrevendo no arquivo\n",
        "with open('teste.txt', 'w') as txt:\n",
        "  txt.write('Testando nova função')"
      ],
      "metadata": {
        "id": "ewgg5rEchvXI"
      },
      "execution_count": 26,
      "outputs": []
    },
    {
      "cell_type": "code",
      "source": [
        "# adicionando informações ao arquivo\n",
        "with open('teste.txt', 'a') as txt:\n",
        "  txt.write('\\nAdicionando Informações')"
      ],
      "metadata": {
        "id": "JoIa08k6ic-r"
      },
      "execution_count": 28,
      "outputs": []
    },
    {
      "cell_type": "code",
      "source": [
        "# lendo o arquivo\n",
        "with open('teste.txt', 'r') as txt:\n",
        "  print(txt.read())"
      ],
      "metadata": {
        "colab": {
          "base_uri": "https://localhost:8080/"
        },
        "id": "B_1nNiMAioo_",
        "outputId": "fb98e61d-e5a0-4ffc-dd8d-463d0d2301d1"
      },
      "execution_count": 29,
      "outputs": [
        {
          "output_type": "stream",
          "name": "stdout",
          "text": [
            "Testando nova função\n",
            "Adicionando Informações\n"
          ]
        }
      ]
    },
    {
      "cell_type": "code",
      "source": [
        "# renomeando o arquivo\n",
        "os.rename(arquivo, 'python_bibliotecaos.txt')\n",
        "\n",
        "#verificando que o nome do arquivo foi mudado\n",
        "os.listdir()"
      ],
      "metadata": {
        "colab": {
          "base_uri": "https://localhost:8080/"
        },
        "id": "pEzftD7Tit13",
        "outputId": "20855d05-4464-41c0-94c5-651ef6828c76"
      },
      "execution_count": 30,
      "outputs": [
        {
          "output_type": "execute_result",
          "data": {
            "text/plain": [
              "['README.md',\n",
              " 'anscombe.json',\n",
              " 'teste.txt',\n",
              " 'python_bibliotecaos.txt',\n",
              " 'mnist_test.csv',\n",
              " 'california_housing_test.csv',\n",
              " 'california_housing_train.csv',\n",
              " 'mnist_train_small.csv']"
            ]
          },
          "metadata": {},
          "execution_count": 30
        }
      ]
    }
  ]
}