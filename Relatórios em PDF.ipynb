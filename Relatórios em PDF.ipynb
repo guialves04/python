{
  "nbformat": 4,
  "nbformat_minor": 0,
  "metadata": {
    "colab": {
      "provenance": [],
      "authorship_tag": "ABX9TyN+U6+da1vQIJ/8XiaomWxm",
      "include_colab_link": true
    },
    "kernelspec": {
      "name": "python3",
      "display_name": "Python 3"
    },
    "language_info": {
      "name": "python"
    }
  },
  "cells": [
    {
      "cell_type": "markdown",
      "metadata": {
        "id": "view-in-github",
        "colab_type": "text"
      },
      "source": [
        "<a href=\"https://colab.research.google.com/github/guialves04/python/blob/main/Relat%C3%B3rios%20em%20PDF.ipynb\" target=\"_parent\"><img src=\"https://colab.research.google.com/assets/colab-badge.svg\" alt=\"Open In Colab\"/></a>"
      ]
    },
    {
      "cell_type": "markdown",
      "source": [
        "# Relatórios da Empresa\n"
      ],
      "metadata": {
        "id": "zQLN5-LdU7KK"
      }
    },
    {
      "cell_type": "markdown",
      "source": [
        "Extrair e utilizar informações úteis de nossos documentos.\n",
        "Utilizando a biblioteca PDF Plumber vamos extrair e manipular informações de 5 relatórios em pdf ao mesmo tempo. Ao final é possível fazer a soma das vendas dos relatórios utilizados."
      ],
      "metadata": {
        "id": "6aj-ZTLFVPIn"
      }
    },
    {
      "cell_type": "code",
      "source": [
        "# instalando o pdfplumber\n",
        "!pip install pdfplumber"
      ],
      "metadata": {
        "colab": {
          "base_uri": "https://localhost:8080/"
        },
        "id": "iFA4G4MLVX73",
        "outputId": "c7a1713e-71d7-4925-c36c-1571493a5510"
      },
      "execution_count": 1,
      "outputs": [
        {
          "output_type": "stream",
          "name": "stdout",
          "text": [
            "Collecting pdfplumber\n",
            "  Downloading pdfplumber-0.10.4-py3-none-any.whl (54 kB)\n",
            "\u001b[2K     \u001b[90m━━━━━━━━━━━━━━━━━━━━━━━━━━━━━━━━━━━━━━━━\u001b[0m \u001b[32m54.7/54.7 kB\u001b[0m \u001b[31m1.5 MB/s\u001b[0m eta \u001b[36m0:00:00\u001b[0m\n",
            "\u001b[?25hCollecting pdfminer.six==20221105 (from pdfplumber)\n",
            "  Downloading pdfminer.six-20221105-py3-none-any.whl (5.6 MB)\n",
            "\u001b[2K     \u001b[90m━━━━━━━━━━━━━━━━━━━━━━━━━━━━━━━━━━━━━━━━\u001b[0m \u001b[32m5.6/5.6 MB\u001b[0m \u001b[31m34.9 MB/s\u001b[0m eta \u001b[36m0:00:00\u001b[0m\n",
            "\u001b[?25hRequirement already satisfied: Pillow>=9.1 in /usr/local/lib/python3.10/dist-packages (from pdfplumber) (9.4.0)\n",
            "Collecting pypdfium2>=4.18.0 (from pdfplumber)\n",
            "  Downloading pypdfium2-4.27.0-py3-none-manylinux_2_17_x86_64.manylinux2014_x86_64.whl (2.8 MB)\n",
            "\u001b[2K     \u001b[90m━━━━━━━━━━━━━━━━━━━━━━━━━━━━━━━━━━━━━━━━\u001b[0m \u001b[32m2.8/2.8 MB\u001b[0m \u001b[31m6.7 MB/s\u001b[0m eta \u001b[36m0:00:00\u001b[0m\n",
            "\u001b[?25hRequirement already satisfied: charset-normalizer>=2.0.0 in /usr/local/lib/python3.10/dist-packages (from pdfminer.six==20221105->pdfplumber) (3.3.2)\n",
            "Requirement already satisfied: cryptography>=36.0.0 in /usr/local/lib/python3.10/dist-packages (from pdfminer.six==20221105->pdfplumber) (42.0.3)\n",
            "Requirement already satisfied: cffi>=1.12 in /usr/local/lib/python3.10/dist-packages (from cryptography>=36.0.0->pdfminer.six==20221105->pdfplumber) (1.16.0)\n",
            "Requirement already satisfied: pycparser in /usr/local/lib/python3.10/dist-packages (from cffi>=1.12->cryptography>=36.0.0->pdfminer.six==20221105->pdfplumber) (2.21)\n",
            "Installing collected packages: pypdfium2, pdfminer.six, pdfplumber\n",
            "Successfully installed pdfminer.six-20221105 pdfplumber-0.10.4 pypdfium2-4.27.0\n"
          ]
        }
      ]
    },
    {
      "cell_type": "code",
      "source": [
        "# importando os pacotes necessários\n",
        "from google.colab import drive\n",
        "import pdfplumber\n",
        "import os\n",
        "\n",
        "# montando o drive\n",
        "drive.mount('/content/gdrive')"
      ],
      "metadata": {
        "colab": {
          "base_uri": "https://localhost:8080/"
        },
        "id": "lRglEXjYViZp",
        "outputId": "9607d015-f1b0-46b3-9833-65014ddce979"
      },
      "execution_count": 5,
      "outputs": [
        {
          "output_type": "stream",
          "name": "stdout",
          "text": [
            "Drive already mounted at /content/gdrive; to attempt to forcibly remount, call drive.mount(\"/content/gdrive\", force_remount=True).\n"
          ]
        }
      ]
    },
    {
      "cell_type": "code",
      "source": [
        "# mudar para diretório com pdfs da semana\n",
        "os.chdir('/content/gdrive/MyDrive/Relatórios')"
      ],
      "metadata": {
        "id": "sXF8NYEZWJJO"
      },
      "execution_count": 6,
      "outputs": []
    },
    {
      "cell_type": "code",
      "source": [
        "# checando se estou no diretório correto\n",
        "os.getcwd()"
      ],
      "metadata": {
        "colab": {
          "base_uri": "https://localhost:8080/",
          "height": 35
        },
        "id": "jGEMTpxnXETU",
        "outputId": "98497106-773f-4886-ede0-988609dbff79"
      },
      "execution_count": 7,
      "outputs": [
        {
          "output_type": "execute_result",
          "data": {
            "text/plain": [
              "'/content/gdrive/MyDrive/Relatórios'"
            ],
            "application/vnd.google.colaboratory.intrinsic+json": {
              "type": "string"
            }
          },
          "metadata": {},
          "execution_count": 7
        }
      ]
    },
    {
      "cell_type": "code",
      "source": [
        "# imprimindo listas com arquivos no diretório\n",
        "arquivos_semana = os.listdir()\n",
        "print(arquivos_semana)"
      ],
      "metadata": {
        "colab": {
          "base_uri": "https://localhost:8080/"
        },
        "id": "E4kOHUd3XTCP",
        "outputId": "52c1e595-4743-48c8-944f-1a0e5a26e922"
      },
      "execution_count": 8,
      "outputs": [
        {
          "output_type": "stream",
          "name": "stdout",
          "text": [
            "['20200801.pdf', '20200802.pdf', '20200803.pdf', '20200804.pdf', '20200805.pdf']\n"
          ]
        }
      ]
    },
    {
      "cell_type": "markdown",
      "source": [
        "# Manipulando Relatórios"
      ],
      "metadata": {
        "id": "TAPHDd7LXtNW"
      }
    },
    {
      "cell_type": "code",
      "source": [
        "# abrindo um relatório de exemplo\n",
        "relatorio = pdfplumber.open('/content/gdrive/MyDrive/Relatórios/20200801.pdf')"
      ],
      "metadata": {
        "id": "FxQezMi5XwQ_"
      },
      "execution_count": 9,
      "outputs": []
    },
    {
      "cell_type": "code",
      "source": [
        "# verificando quantas páginas tem o relatório\n",
        "relatorio.pages"
      ],
      "metadata": {
        "colab": {
          "base_uri": "https://localhost:8080/"
        },
        "id": "iH7tnv4BX-UO",
        "outputId": "43fdf075-e7d0-4e64-c81a-20df8373ae03"
      },
      "execution_count": 10,
      "outputs": [
        {
          "output_type": "execute_result",
          "data": {
            "text/plain": [
              "[<Page:1>]"
            ]
          },
          "metadata": {},
          "execution_count": 10
        }
      ]
    },
    {
      "cell_type": "code",
      "source": [
        "# abrindo a primeira página do relatório\n",
        "pagina = relatorio.pages[0]"
      ],
      "metadata": {
        "id": "W1Nf57cPYT4e"
      },
      "execution_count": 12,
      "outputs": []
    },
    {
      "cell_type": "code",
      "source": [
        "# extraindo o texto da primeira página do relatório\n",
        "texto = pagina.extract_text()\n",
        "print(texto)"
      ],
      "metadata": {
        "colab": {
          "base_uri": "https://localhost:8080/"
        },
        "id": "ZJohVXqZYkX3",
        "outputId": "f963af41-3ebc-45cf-c9eb-977df941d968"
      },
      "execution_count": 13,
      "outputs": [
        {
          "output_type": "stream",
          "name": "stdout",
          "text": [
            "SIGMOIDAL\n",
            "Relatório Diário\n",
            "Data: 01/08/2020\n",
            "RECEITA: R$ 1297.00\n",
            "DADOS ATUALIZADOS POR CARLOS MELO\n",
            "Visitantes: 1367\n",
            "A quantidade de visitantes diz respeito a visitantes únicos visitando qualquer\n",
            "página do domínio ou subdomínio sigmoidal.ai. Compreende, então, cursos,\n",
            "blogs e landing pages.\n",
            "Inscritos: 33\n",
            "É considerado aqui o número de leads gerados por meio de cadastro\n",
            "voluntário nos formulários do cabeçalho, rodapé ou materiais ricos (como\n",
            "eBook, infográficos, entre outros).\n",
            "Assinantes: 6\n",
            "Clientes assinantes da Escola de Data Science, considerando-se o plano\n",
            "renovável de assinatura mensal.\n"
          ]
        }
      ]
    },
    {
      "cell_type": "code",
      "source": [
        "# vendas sempre aparecem na 3a posição\n",
        "texto.split('\\n')[3]"
      ],
      "metadata": {
        "colab": {
          "base_uri": "https://localhost:8080/",
          "height": 35
        },
        "id": "6l5M7gQ_ZnKW",
        "outputId": "350dd7e6-0484-4e76-f126-7a586591ae71"
      },
      "execution_count": 18,
      "outputs": [
        {
          "output_type": "execute_result",
          "data": {
            "text/plain": [
              "'RECEITA: R$ 1297.00'"
            ],
            "application/vnd.google.colaboratory.intrinsic+json": {
              "type": "string"
            }
          },
          "metadata": {},
          "execution_count": 18
        }
      ]
    },
    {
      "cell_type": "code",
      "source": [
        "# queremos somente o que vem depois do R$\n",
        "texto.split('\\n')[3].split('R$')[1]"
      ],
      "metadata": {
        "colab": {
          "base_uri": "https://localhost:8080/",
          "height": 35
        },
        "id": "McLceZ-aZzkG",
        "outputId": "8d631658-28c2-4244-ea79-70236043b714"
      },
      "execution_count": 23,
      "outputs": [
        {
          "output_type": "execute_result",
          "data": {
            "text/plain": [
              "' 1297.00'"
            ],
            "application/vnd.google.colaboratory.intrinsic+json": {
              "type": "string"
            }
          },
          "metadata": {},
          "execution_count": 23
        }
      ]
    },
    {
      "cell_type": "code",
      "source": [
        "# transformando em float\n",
        "float(texto.split('\\n')[3].split('R$')[1])"
      ],
      "metadata": {
        "colab": {
          "base_uri": "https://localhost:8080/"
        },
        "id": "5qh0MarhaJ5m",
        "outputId": "5a6da48a-e523-48ba-d62b-8730efb8193a"
      },
      "execution_count": 24,
      "outputs": [
        {
          "output_type": "execute_result",
          "data": {
            "text/plain": [
              "1297.0"
            ]
          },
          "metadata": {},
          "execution_count": 24
        }
      ]
    },
    {
      "cell_type": "markdown",
      "source": [
        "# Automatizando a Soma de Receita dos Relatórios"
      ],
      "metadata": {
        "id": "7N_G-26DaiOn"
      }
    },
    {
      "cell_type": "code",
      "source": [
        "# criando um contador\n",
        "soma = 0\n",
        "\n",
        "# criando uma função\n",
        "for arquivo in arquivos_semana:\n",
        "  relatorio = pdfplumber.open(arquivo)\n",
        "  pagina = relatorio.pages[0]\n",
        "  texto = pagina.extract_text()\n",
        "  valor = texto.split('\\n')[3].split('R$')[1]\n",
        "  valor = float(valor)\n",
        "  soma = soma + valor\n",
        "  print(arquivo, '-->', valor)\n"
      ],
      "metadata": {
        "colab": {
          "base_uri": "https://localhost:8080/"
        },
        "id": "Q4HhdPrSal4l",
        "outputId": "f36cccfb-1b59-4802-e0e3-9e3f03a6e1cf"
      },
      "execution_count": 25,
      "outputs": [
        {
          "output_type": "stream",
          "name": "stdout",
          "text": [
            "20200801.pdf --> 1297.0\n",
            "20200802.pdf --> 537.0\n",
            "20200803.pdf --> 554.0\n",
            "20200804.pdf --> 2554.0\n",
            "20200805.pdf --> 154.0\n"
          ]
        }
      ]
    },
    {
      "cell_type": "code",
      "source": [
        "# soma total\n",
        "print('Receita dos Últimos 5 dias: R$',soma)"
      ],
      "metadata": {
        "colab": {
          "base_uri": "https://localhost:8080/"
        },
        "id": "y3rfCFYNbXte",
        "outputId": "c3a82933-3676-4ba4-b932-4556bee27502"
      },
      "execution_count": 26,
      "outputs": [
        {
          "output_type": "stream",
          "name": "stdout",
          "text": [
            "Receita dos Últimos 5 dias: R$ 5096.0\n"
          ]
        }
      ]
    },
    {
      "cell_type": "code",
      "source": [],
      "metadata": {
        "id": "KUqtI_NUbdZJ"
      },
      "execution_count": null,
      "outputs": []
    }
  ]
}